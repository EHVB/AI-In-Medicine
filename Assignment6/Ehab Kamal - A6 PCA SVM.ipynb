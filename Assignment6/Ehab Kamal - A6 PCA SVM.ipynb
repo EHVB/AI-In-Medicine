{
 "cells": [
  {
   "cell_type": "markdown",
   "id": "0d20d33c-4922-4513-a576-72dfe4c78dfd",
   "metadata": {},
   "source": [
    "---\n",
    "# Cairo University Faculty of Engineering\n",
    "## Machine Learning \n",
    "## Assignment 6\n",
    "\n",
    "---\n",
    "Please write your full name here\n",
    "- **Name** : \"-----------\""
   ]
  },
  {
   "cell_type": "markdown",
   "id": "1c7f38e9-3316-47a1-9d1e-e0e2d5631988",
   "metadata": {},
   "source": [
    "# Part 1 PCA"
   ]
  },
  {
   "cell_type": "code",
   "execution_count": null,
   "id": "91704395-9068-4300-8c62-faf1331cba6d",
   "metadata": {
    "tags": []
   },
   "outputs": [],
   "source": [
    "from sklearn.datasets import make_moons, make_blobs\n",
    "import numpy as np\n",
    "import matplotlib.pyplot as plt\n",
    "from matplotlib.colors import ListedColormap\n",
    "%matplotlib inline\n"
   ]
  },
  {
   "cell_type": "code",
   "execution_count": null,
   "id": "1369176c-24c2-4d62-92f6-fb867011a8ed",
   "metadata": {
    "tags": []
   },
   "outputs": [],
   "source": [
    "rng = np.random.RandomState(42)\n",
    "X = np.dot(rng.rand(2, 2), rng.randn(2, 200)).T\n",
    "plt.scatter(X[:, 0], X[:, 1])\n",
    "plt.axis('equal');"
   ]
  },
  {
   "cell_type": "markdown",
   "id": "19a5b94a-b90c-4291-94ab-ba439670be9c",
   "metadata": {},
   "source": [
    "## Question 1\n",
    "\n",
    "Write your own PCA function that will return:\n",
    "* The sorted eigenvectors of all principal components\n",
    "* The corresponding eigenvalues\n",
    "* The transformed data\n",
    "- Function takes in the data only\n",
    "    - You can use np.linalg.eig\n",
    "\n",
    "Note, please make sure that the data is centered before transformation (i.e., the sample\n",
    "mean subtracted out) but not normalized."
   ]
  },
  {
   "cell_type": "code",
   "execution_count": null,
   "id": "6c58d422-d81f-4d88-8a33-4326b0562cef",
   "metadata": {
    "tags": []
   },
   "outputs": [],
   "source": [
    "#### YOUR FUNCTION\n",
    "def pca(X):\n",
    "    \n",
    "    return sorted_eigenvectors, sorted_eigenvalue, X_transformed"
   ]
  },
  {
   "cell_type": "markdown",
   "id": "5c155739-ac8c-447b-982b-08386010d4f5",
   "metadata": {},
   "source": [
    "## Question 2\n",
    "- Apply your PCA function to the data given above\n",
    "- print the pca eigenvalues\n",
    "- plot the transformed data\n",
    "- plot the PCA vectors over the ORIGINAL data"
   ]
  },
  {
   "cell_type": "code",
   "execution_count": null,
   "id": "bda3cfb2-e5ea-49b0-9d9f-36ad3f95809f",
   "metadata": {
    "tags": []
   },
   "outputs": [],
   "source": [
    "## Apply your function\n",
    "sorted_eigenvectors, sorted_eigenvalues, X_transformed = pca(X) "
   ]
  },
  {
   "cell_type": "code",
   "execution_count": null,
   "id": "0c673bfc-4bd7-4d3e-b23f-1d006169597f",
   "metadata": {
    "tags": []
   },
   "outputs": [],
   "source": [
    "print(\"Eigenvalues are: \", sorted_eigenvalues)"
   ]
  },
  {
   "cell_type": "code",
   "execution_count": null,
   "id": "7c9d855b-c8c1-4b43-bd0c-f3d49cf71960",
   "metadata": {
    "tags": []
   },
   "outputs": [],
   "source": [
    "### Plot transformed data\n"
   ]
  },
  {
   "cell_type": "code",
   "execution_count": null,
   "id": "a2251e85-9a38-4544-91bc-c8a019c0115d",
   "metadata": {
    "tags": []
   },
   "outputs": [],
   "source": [
    "### Plot eigenvectors over ORIGINAL data"
   ]
  },
  {
   "cell_type": "markdown",
   "id": "ea248e0a-671c-4399-bae7-d61b7069e034",
   "metadata": {},
   "source": [
    "## Question 3"
   ]
  },
  {
   "cell_type": "markdown",
   "id": "fd48ec2b-48b2-474b-8f4f-7f0bc8370f22",
   "metadata": {},
   "source": [
    "- Apply sklearn's PCA function to the same data\n",
    "- print the pca eigenvalues"
   ]
  },
  {
   "cell_type": "code",
   "execution_count": null,
   "id": "8e351a4d-fcb3-4a21-bf2d-3d6ab65eed36",
   "metadata": {
    "tags": []
   },
   "outputs": [],
   "source": []
  },
  {
   "cell_type": "markdown",
   "id": "d4b523f4-7624-4352-93ad-8f14dcad8d79",
   "metadata": {},
   "source": [
    "## Question 4\n",
    "- Appl sklearn PCA using 1 component only\n",
    "- print shape of transformed data\n",
    "- plot the transformed data"
   ]
  },
  {
   "cell_type": "code",
   "execution_count": null,
   "id": "8f79f203-d4b2-4d0d-8e60-f98177e01237",
   "metadata": {
    "tags": []
   },
   "outputs": [],
   "source": []
  },
  {
   "cell_type": "code",
   "execution_count": null,
   "id": "05a6bc1e-a9b3-49aa-9b84-dec4248bc5e1",
   "metadata": {
    "tags": []
   },
   "outputs": [],
   "source": []
  },
  {
   "cell_type": "markdown",
   "id": "8f68a3b5-431f-49ef-b9ec-5de77eb49125",
   "metadata": {},
   "source": [
    "# Part 2 SVM"
   ]
  },
  {
   "cell_type": "markdown",
   "id": "482ab1bb-127e-4c80-9eb0-6da5be9d4b92",
   "metadata": {},
   "source": [
    "### Use the following function to plot the classification regions"
   ]
  },
  {
   "cell_type": "code",
   "execution_count": null,
   "id": "a129264e-95ce-42eb-8b9e-e09ccb768c07",
   "metadata": {
    "tags": []
   },
   "outputs": [],
   "source": [
    "def plot_class_regions_for_classifier(clf, X, y, X_test=None, y_test=None, title=None, target_names = None, plot_decision_regions = True):\n",
    "\n",
    "    numClasses = np.amax(y) + 1\n",
    "    color_list_light = ['#FFFFAA', '#EFEFEF', '#AAFFAA', '#AAAAFF']\n",
    "    color_list_bold = ['#EEEE00', '#000000', '#00CC00', '#0000CC']\n",
    "    cmap_light = ListedColormap(color_list_light[0:numClasses])\n",
    "    cmap_bold  = ListedColormap(color_list_bold[0:numClasses])\n",
    "\n",
    "    h = 0.03\n",
    "    k = 0.5\n",
    "    x_plot_adjust = 0.1\n",
    "    y_plot_adjust = 0.1\n",
    "    plot_symbol_size = 50\n",
    "\n",
    "    x_min = X[:, 0].min()\n",
    "    x_max = X[:, 0].max()\n",
    "    y_min = X[:, 1].min()\n",
    "    y_max = X[:, 1].max()\n",
    "    x2, y2 = np.meshgrid(np.arange(x_min-k, x_max+k, h), np.arange(y_min-k, y_max+k, h))\n",
    "    # np.c_ Translates slice objects to concatenation along the second axis\n",
    "    # e.g. np.c_[np.array([[1,2,3]]), 0, 0, np.array([[4,5,6]])]\n",
    "    # ravel() Returns a contiguous flattened array.\n",
    "    # x = np.array([[1, 2, 3], [4, 5, 6]])\n",
    "    # np.ravel(x) = [1 2 3 4 5 6]\n",
    "    P = clf.predict(np.c_[x2.ravel(), y2.ravel()])\n",
    "    P = P.reshape(x2.shape)\n",
    "    plt.figure()\n",
    "    if plot_decision_regions:\n",
    "        plt.contourf(x2, y2, P, cmap=cmap_light, alpha = 0.8)\n",
    "\n",
    "    plt.scatter(X[:, 0], X[:, 1], c=y, cmap=cmap_bold, s=plot_symbol_size, edgecolor = 'black')\n",
    "    plt.xlim(x_min - x_plot_adjust, x_max + x_plot_adjust)\n",
    "    plt.ylim(y_min - y_plot_adjust, y_max + y_plot_adjust)\n",
    "\n",
    "    if (X_test is not None):\n",
    "        plt.scatter(X_test[:, 0], X_test[:, 1], c=y_test, cmap=cmap_bold, s=plot_symbol_size, marker='^', edgecolor = 'black')\n",
    "        train_score = clf.score(X, y)\n",
    "        test_score  = clf.score(X_test, y_test)\n",
    "        title = title + \"\\nTrain score = {:.2f}, Test score = {:.2f}\".format(train_score, test_score)\n",
    "\n",
    "    if (target_names is not None):\n",
    "        legend_handles = []\n",
    "        for i in range(0, len(target_names)):\n",
    "            patch = mpatches.Patch(color=color_list_bold[i], label=target_names[i])\n",
    "            legend_handles.append(patch)\n",
    "        plt.legend(loc=0, handles=legend_handles)\n",
    "\n",
    "    if (title is not None):\n",
    "        plt.title(title)\n",
    "    plt.show()"
   ]
  },
  {
   "cell_type": "markdown",
   "id": "0b922960-cffc-477a-ae42-f22b57efe394",
   "metadata": {},
   "source": [
    "### Use the following dataset in questions 1, 2, and 3."
   ]
  },
  {
   "cell_type": "code",
   "execution_count": null,
   "id": "1006440e-622e-48cd-8369-0cdb5b73b471",
   "metadata": {
    "tags": []
   },
   "outputs": [],
   "source": [
    "from sklearn.datasets import make_classification\n",
    "\n",
    "X, y = make_classification(n_samples = 100, n_features=2,\n",
    "                                n_redundant=0, n_informative=2,\n",
    "                                n_clusters_per_class=1, flip_y = 0.1,\n",
    "                                class_sep = 0.5, random_state=0)"
   ]
  },
  {
   "cell_type": "markdown",
   "id": "b686a465-4987-44d4-911b-ad09dac8140d",
   "metadata": {},
   "source": [
    "#### Question 1\n",
    "Split the data into training and testing datasets (use random_state=42 and 20% of the data for testing)"
   ]
  },
  {
   "cell_type": "code",
   "execution_count": null,
   "id": "38eaa5eb-a8eb-4d87-a7f4-2cd222d47005",
   "metadata": {
    "tags": []
   },
   "outputs": [],
   "source": []
  },
  {
   "cell_type": "markdown",
   "id": "7b03f201-9b63-4783-819f-cac21f86b644",
   "metadata": {},
   "source": [
    "#### Question 2\n",
    "1. Train an SVM classifier using linear kernel (use SVC)\n",
    "2. Plot the classification regions using the training dataset."
   ]
  },
  {
   "cell_type": "code",
   "execution_count": null,
   "id": "7ec9b0cb-9244-473e-ae1a-9e57b3ea0122",
   "metadata": {
    "tags": []
   },
   "outputs": [],
   "source": []
  },
  {
   "cell_type": "markdown",
   "id": "78139913-e3c0-41d8-916e-0c0919c85ad1",
   "metadata": {},
   "source": [
    "#### Question 3\n",
    "1. Train an SVM classifier using linear kernel with C=0.00002.\n",
    "2. Train another SVM classifier using linear kernel with C=200\n",
    "3. Plot the classification regions for both cases using the training dataset.\n",
    "4. Comment on the results."
   ]
  },
  {
   "cell_type": "code",
   "execution_count": null,
   "id": "9daff9c5-2f89-4454-8b21-87cc3f1ab2ea",
   "metadata": {
    "tags": []
   },
   "outputs": [],
   "source": []
  },
  {
   "cell_type": "code",
   "execution_count": null,
   "id": "300096d9-68d8-4f68-bf6d-4b07a0ddab8c",
   "metadata": {
    "tags": []
   },
   "outputs": [],
   "source": []
  },
  {
   "cell_type": "markdown",
   "id": "af24125e-ee59-4fd0-843e-dd6a4f016816",
   "metadata": {},
   "source": [
    "### Use the fruits dataset in questions 4, 5, 6."
   ]
  },
  {
   "cell_type": "code",
   "execution_count": null,
   "id": "1eca04a9-ba10-4bf4-9841-07ccf1249dcb",
   "metadata": {
    "tags": []
   },
   "outputs": [],
   "source": [
    "import pandas as pd\n",
    "fruits = pd.read_table('fruit_data_with_colors.txt')\n",
    "feature_names_fruits = ['height', 'width', 'mass', 'color_score']"
   ]
  },
  {
   "cell_type": "markdown",
   "id": "203d0e0f-f858-4125-b973-c30287168337",
   "metadata": {},
   "source": [
    "#### Question 4\n",
    "1. Split the data by columns into X_fruits and y_fruits where X_fruits is the data records and y_fruits is the labels.\n",
    "2. Using only the **'height'** and **'width'** features, split the data into training and testing using random_state=42, and 20% of the data for testing.\n",
    "3. Using **sklearn LinearSVC**, train a linear svm using random_state=42, C=10"
   ]
  },
  {
   "cell_type": "code",
   "execution_count": null,
   "id": "b9d29253-4327-4dcc-9b43-bcf47f19d4e9",
   "metadata": {
    "tags": []
   },
   "outputs": [],
   "source": []
  },
  {
   "cell_type": "code",
   "execution_count": null,
   "id": "be6aee0b-fb81-414b-a357-0e4014caa1f4",
   "metadata": {
    "tags": []
   },
   "outputs": [],
   "source": []
  },
  {
   "cell_type": "markdown",
   "id": "b72d70f3-9e4d-4244-b8e2-dc991c3c7902",
   "metadata": {},
   "source": [
    "#### Question 5\n",
    "For the previous model from question 4. \n",
    "1. How many SVM models have been trained? and Why?\n",
    "2. Print the models' coefficients and intercepts."
   ]
  },
  {
   "cell_type": "code",
   "execution_count": null,
   "id": "387e4b9b-d4c5-4df8-86fc-864422def90f",
   "metadata": {},
   "outputs": [],
   "source": []
  },
  {
   "cell_type": "markdown",
   "id": "b6af4b33-dcb2-466d-a796-397486843806",
   "metadata": {},
   "source": [
    "#### Question 6\n",
    "Plot the classification boundary of each svm on a scatter plot of the training data."
   ]
  },
  {
   "cell_type": "code",
   "execution_count": null,
   "id": "403fcb17-1202-4c98-8cd7-64a2b7641448",
   "metadata": {
    "tags": []
   },
   "outputs": [],
   "source": []
  },
  {
   "cell_type": "code",
   "execution_count": null,
   "id": "c1d0a342-8e9f-4b17-a91c-c8fca1c81aee",
   "metadata": {
    "tags": []
   },
   "outputs": [],
   "source": [
    "from sklearn.datasets import load_breast_cancer\n",
    "(X_cancer, y_cancer) = load_breast_cancer(return_X_y = True)"
   ]
  },
  {
   "cell_type": "markdown",
   "id": "2b10a88e-17f0-4d29-8681-e9012fb1c9da",
   "metadata": {},
   "source": [
    "#### Question 7\n",
    "1. Split the dataset into training and testing datasets, use random_state = 42, and 20% of the data for testing.\n",
    "2. Use GridSearchCV to find the best C value for and SVM  (SVC) classifier with rbf kernel and print the best C value. *use:*  \n",
    "```python\n",
    "parameters = {'kernel' : ('poly', 'rbf'), 'C':[0.01, 0.1, 0.5, 1, 10]}\n",
    "```\n",
    "3. Print the best parameters resulted from your grid search."
   ]
  },
  {
   "cell_type": "code",
   "execution_count": null,
   "id": "f7096674-c993-4ed8-b448-f1ae68c8900c",
   "metadata": {
    "tags": []
   },
   "outputs": [],
   "source": [
    "from sklearn.model_selection import GridSearchCV\n"
   ]
  },
  {
   "cell_type": "markdown",
   "id": "27bbcbe6-a2b5-4f30-92a7-c177ae7a8a67",
   "metadata": {},
   "source": [
    "#### Question 8\n",
    "Train an SVM model using the best parameters resulted from question 7, then calculate and print the training and testing accuracy."
   ]
  },
  {
   "cell_type": "code",
   "execution_count": null,
   "id": "9bd0a32e-be03-4ee5-a319-02d07ace7b58",
   "metadata": {
    "tags": []
   },
   "outputs": [],
   "source": [
    "print('Accuracy of SVC on training set: {:.2f}'\n",
    "     .format(###########))\n",
    "print('Accuracy of SVC on test set: {:.2f}'\n",
    "     .format(#########))"
   ]
  },
  {
   "cell_type": "markdown",
   "id": "03a774eb-4174-4e05-8ad5-e6e26a96beaa",
   "metadata": {},
   "source": [
    "#### Question 9\n",
    "Improve the previous results from question 8.\n",
    "\n",
    "**Hint:** Don't change the model, instead, make some preprocessing on the data."
   ]
  },
  {
   "cell_type": "code",
   "execution_count": null,
   "id": "ed324fbb-7e52-47da-b987-fc983a3f165b",
   "metadata": {
    "tags": []
   },
   "outputs": [],
   "source": [
    "\n",
    "\n"
   ]
  },
  {
   "cell_type": "code",
   "execution_count": null,
   "id": "6aa31c32-4bcd-4279-9598-1a199b218d22",
   "metadata": {},
   "outputs": [],
   "source": [
    "print('Accuracy of SVC on training set: {:.2f}'\n",
    "     .format(###########))\n",
    "print('Accuracy of SVC on test set: {:.2f}'\n",
    "     .format(#########))"
   ]
  }
 ],
 "metadata": {
  "kernelspec": {
   "display_name": "Python 3 (ipykernel)",
   "language": "python",
   "name": "python3"
  },
  "language_info": {
   "codemirror_mode": {
    "name": "ipython",
    "version": 3
   },
   "file_extension": ".py",
   "mimetype": "text/x-python",
   "name": "python",
   "nbconvert_exporter": "python",
   "pygments_lexer": "ipython3",
   "version": "3.11.0"
  }
 },
 "nbformat": 4,
 "nbformat_minor": 5
}
