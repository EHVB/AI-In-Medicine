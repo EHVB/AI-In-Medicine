{
 "cells": [
  {
   "cell_type": "markdown",
   "id": "f579fbd0-ecec-4c03-b391-1911421d6064",
   "metadata": {
    "id": "de24fb44-f309-4b05-833d-d9c98d441069",
    "tags": []
   },
   "source": [
    "---\n",
    "# Cairo University Faculty of Engineering\n",
    "## Machine Learning \n",
    "## Assignment 5 \n",
    "\n",
    "---"
   ]
  },
  {
   "cell_type": "markdown",
   "id": "c7de719a-c355-4eac-9fed-cd16ddf08836",
   "metadata": {
    "id": "04b5d1a1-4378-4074-87ab-2f2c669440e9"
   },
   "source": [
    "Please write your full name here\n",
    "- **Name** : \"-----------\""
   ]
  },
  {
   "cell_type": "markdown",
   "id": "ae460454-d47a-41d6-b95e-c2cba1677db8",
   "metadata": {},
   "source": [
    "# Clustering\n",
    "\n",
    "In this assignment, you will be exploring kmeans algorithms for clustering\n",
    "\n",
    "--------------------"
   ]
  },
  {
   "cell_type": "markdown",
   "id": "5888d221-c004-43d6-ae76-2b17fe976201",
   "metadata": {},
   "source": [
    "The k-means clustering is first given the wanted number of clusters, say k, as a hyperparameter. Next, to start the algorithm, k points from the data set are chosen randomly as cluster centres. Then the following phases are repeated iteratively:\n",
    "\n",
    "- any data point is set to belong to a cluster, whose centre is closest to it\n",
    "- then for each cluster a new centre is chosen as the average of the data points in the cluster\n",
    "This procedure is repeated until the clusters no longer change. This kind of algorithm is called an Expectation-Maximization (EM) algorithm, which is known to converge."
   ]
  },
  {
   "cell_type": "code",
   "execution_count": 1,
   "id": "84764ef8-a904-420b-874f-89b73052ace8",
   "metadata": {},
   "outputs": [],
   "source": [
    "from sklearn.datasets import make_moons, make_blobs\n",
    "import numpy as np\n",
    "from sklearn.cluster import KMeans\n",
    "import matplotlib.pyplot as plt\n",
    "%matplotlib inline"
   ]
  },
  {
   "cell_type": "code",
   "execution_count": 2,
   "id": "5623c3b9-8d6d-4ea2-ad1b-149b4e261ff1",
   "metadata": {},
   "outputs": [],
   "source": [
    "X, y = make_moons(n_samples=250, noise=0.05, random_state=42)"
   ]
  },
  {
   "cell_type": "markdown",
   "id": "383914a1-379f-4ab8-aeb9-f6d2510a7e2b",
   "metadata": {},
   "source": [
    "# Question 0\n",
    "Set random seed to 47"
   ]
  },
  {
   "cell_type": "code",
   "execution_count": null,
   "id": "ff964409-2b6c-414a-8ba1-c2b4a3d21435",
   "metadata": {},
   "outputs": [],
   "source": []
  },
  {
   "cell_type": "markdown",
   "id": "0722c8d8-2ab9-448e-9120-03e601dcdb55",
   "metadata": {},
   "source": [
    "# Question 1\n",
    "Scatter plot the dataset"
   ]
  },
  {
   "cell_type": "code",
   "execution_count": null,
   "id": "be84f4f2-9116-44fb-9a5a-616747a3632b",
   "metadata": {},
   "outputs": [],
   "source": []
  },
  {
   "cell_type": "markdown",
   "id": "a49319f4-4507-4422-bb87-daee8ead8ed8",
   "metadata": {},
   "source": [
    "# Question 2\n",
    "In your opinon, how well will K-Means perform on the above dataset? Explain."
   ]
  },
  {
   "cell_type": "markdown",
   "id": "2e296ec8-560f-4842-ba1f-506d5461f71a",
   "metadata": {},
   "source": [
    "ANSWER:"
   ]
  },
  {
   "cell_type": "markdown",
   "id": "d1d75c03-a40d-4805-a98e-3f0f897889aa",
   "metadata": {},
   "source": [
    "# Question 3\n",
    "1. Use Elbow method to find best \"k\". (Use inertia as metric).\n",
    "2. Plot the elbow graph.\n",
    "3. Train SKlearn KMeans model using \"k = 2\".\n",
    "4. Scatter plot the data after clustering with colors\n",
    "5. **Comment on the results.**"
   ]
  },
  {
   "cell_type": "markdown",
   "id": "c0d602ff-fede-4f59-80fe-90f88b542af4",
   "metadata": {},
   "source": [
    "ANSWER:"
   ]
  },
  {
   "cell_type": "code",
   "execution_count": null,
   "id": "66814da2-c5a2-4ce2-ae13-6270c1315f19",
   "metadata": {},
   "outputs": [],
   "source": []
  },
  {
   "cell_type": "code",
   "execution_count": null,
   "id": "ffc53401-f4a7-4f08-9f09-2553a9113509",
   "metadata": {},
   "outputs": [],
   "source": []
  },
  {
   "cell_type": "markdown",
   "id": "78164e59-d47e-4b94-a8c7-10a4fa437753",
   "metadata": {},
   "source": [
    "- Try DBSCAN algorithm on the same data with eps = 0.3\n",
    "- Scatter plot the resulting clusters"
   ]
  },
  {
   "cell_type": "code",
   "execution_count": null,
   "id": "334ea62e-3e00-47ad-a5c1-4f7fdec11b12",
   "metadata": {},
   "outputs": [],
   "source": []
  },
  {
   "cell_type": "markdown",
   "id": "a6c5a68a-68ff-4ec7-a185-f46dcb1d7f5f",
   "metadata": {},
   "source": [
    "**Compare between DBSCAN and kmeans results on the same data. Why do you think you got those results??**"
   ]
  },
  {
   "cell_type": "markdown",
   "id": "fa403d5e-2be9-4287-8a06-4b9b190a0fa2",
   "metadata": {},
   "source": [
    "ANSWER:"
   ]
  },
  {
   "cell_type": "markdown",
   "id": "00e11181-55bc-4aa6-a68d-7f78bcce0041",
   "metadata": {
    "tags": []
   },
   "source": [
    "# Question 4\n",
    "For the following dataset\n",
    "1. Run kmeans algorithm clustering using k=2.\n",
    "3. Plot results of algorithm.\n",
    "4. Comment on the following\n",
    "    * Why do kmeans fail to cluster such data?"
   ]
  },
  {
   "cell_type": "markdown",
   "id": "b36d160a-d684-4ce5-bfb8-7babd6e4ed88",
   "metadata": {},
   "source": [
    "ANSWER:"
   ]
  },
  {
   "cell_type": "code",
   "execution_count": null,
   "id": "5394c35c-1a80-430a-af05-165d08184236",
   "metadata": {},
   "outputs": [],
   "source": [
    "n_samples = 1500\n",
    "random_state = 170\n",
    "X, y = make_blobs(n_samples=n_samples, random_state=random_state, centers=2)\n",
    "transformation = [[0.60834549, -0.63667341], [-0.40887718, 0.85253229]]\n",
    "X_aniso = np.dot(X, transformation)"
   ]
  },
  {
   "cell_type": "code",
   "execution_count": null,
   "id": "6d3d3f79-a00c-490d-9425-fc654f740e8e",
   "metadata": {},
   "outputs": [],
   "source": []
  },
  {
   "cell_type": "code",
   "execution_count": null,
   "id": "b83dc1aa-8350-411d-90da-95dfdc2c6a98",
   "metadata": {},
   "outputs": [],
   "source": []
  },
  {
   "cell_type": "markdown",
   "id": "84aa9270-3c33-426d-804f-2380a400dfce",
   "metadata": {},
   "source": [
    "# Question 5\n",
    "Write your own K-means clustering from scratch, where the Euclidian distance is used to evaluate\n",
    "the distance/ similarity between the dataset. The input to this function should be:\n",
    "* The number of clusters\n",
    "* The dataset\n",
    "\n",
    "The output should be:\n",
    "* The list of cluster centers"
   ]
  },
  {
   "cell_type": "code",
   "execution_count": null,
   "id": "23133e0c-3b80-4202-93c8-17ef34dcc1bc",
   "metadata": {},
   "outputs": [],
   "source": []
  },
  {
   "cell_type": "markdown",
   "id": "d258d5b7-654b-46f2-b731-4a2ccf88c7af",
   "metadata": {},
   "source": [
    "# Question 6\n",
    "For the following dataset:"
   ]
  },
  {
   "cell_type": "code",
   "execution_count": null,
   "id": "a64a12be-b235-4b62-a620-922a8bcceb76",
   "metadata": {},
   "outputs": [],
   "source": [
    "from sklearn.datasets import make_blobs\n",
    "X,y = make_blobs(centers=4, n_samples=200, random_state=0, cluster_std=0.7)\n",
    "print(X[:10],y[:10])"
   ]
  },
  {
   "cell_type": "markdown",
   "id": "d0641a79-6b09-44a4-9680-9d31f13a9b54",
   "metadata": {},
   "source": [
    "- Scatter plot the data **without** coloring the points using labels. \n",
    "- How many clusters do you see?"
   ]
  },
  {
   "cell_type": "markdown",
   "id": "5a4a6a8a-d610-40e5-b2e7-0bc11652976a",
   "metadata": {},
   "source": [
    "ANSWER:"
   ]
  },
  {
   "cell_type": "code",
   "execution_count": null,
   "id": "dba6271e-5bd5-4650-8b0f-2e2c8d493c73",
   "metadata": {},
   "outputs": [],
   "source": []
  },
  {
   "cell_type": "markdown",
   "id": "78033f43-2932-4e39-b2c8-6641c9a7c7f4",
   "metadata": {},
   "source": [
    "# Question 7"
   ]
  },
  {
   "cell_type": "markdown",
   "id": "005a69c1-9562-4677-b7c3-395099a9f02f",
   "metadata": {},
   "source": [
    "- Use sklearn kmeans to cluster the ABOVE data with k = the number you chose in the above question\n",
    "    - Print the clusters centers\n",
    "    - Scatter plot the data and use the labels **predicted** by the model to color the points --> you should have as many colors in the plot as clusters\n",
    "    - On the same plot, show the cluster centers"
   ]
  },
  {
   "cell_type": "code",
   "execution_count": null,
   "id": "54e54e77-ac00-4b7f-b0cd-ec686fa76e01",
   "metadata": {},
   "outputs": [],
   "source": []
  },
  {
   "cell_type": "markdown",
   "id": "9b72fa2f-02e6-497f-8519-e92b2b25f064",
   "metadata": {},
   "source": [
    "- Calculate the accuracy score between kmeans prediction and the true blobs labels"
   ]
  },
  {
   "cell_type": "code",
   "execution_count": null,
   "id": "8cab5aee-9d17-4430-9aca-4246278b5c7c",
   "metadata": {},
   "outputs": [],
   "source": []
  },
  {
   "cell_type": "markdown",
   "id": "13ccc616-3aec-485d-a023-9b9581f66422",
   "metadata": {},
   "source": [
    "- Why is the accuracy so low?\n",
    "\n",
    "ANSWER:"
   ]
  },
  {
   "cell_type": "markdown",
   "id": "2f296ee5-f04b-4906-8528-02d0613260f0",
   "metadata": {},
   "source": [
    "# Question 8\n"
   ]
  },
  {
   "cell_type": "markdown",
   "id": "f058800f-5996-4df5-bbe1-1a6992db8d32",
   "metadata": {},
   "source": [
    "- Write a function that takes the number of clusters, the true labels, and the model predictions\n",
    "- The function should return a list **new labels** with length = number of clusters\n",
    "- The function should modify the predicted label of each cluster to be the **mode** (most common **true** label) among the data points in the cluster\n",
    "- Pseudocode:\n",
    "    - For each predicted cluster:\n",
    "        - Calculate mode of true labels of all points within the cluster\n",
    "        - The mode is the **new label** for this cluster\n"
   ]
  },
  {
   "cell_type": "code",
   "execution_count": 1,
   "id": "9806c811-4add-4b2e-811c-01355a644442",
   "metadata": {},
   "outputs": [],
   "source": [
    "def relabel(n_clusters, true_labels, pred_labels):\n",
    "    \n",
    "    \n",
    "    \n",
    "    \n",
    "    \n",
    "    return new_labels"
   ]
  },
  {
   "cell_type": "code",
   "execution_count": null,
   "id": "26f412b8-39df-4958-b35c-56aebceb28dc",
   "metadata": {},
   "outputs": [],
   "source": [
    "new_labels = relabel(n_clusters, true_labels, pred_labels)\n",
    "assert new_labels == n_clusters"
   ]
  },
  {
   "cell_type": "markdown",
   "id": "313aa025-d541-4730-91ca-2dae05afe643",
   "metadata": {},
   "source": [
    "- Calculate the accuracy score of new labels for **ALL** data after relabeling data"
   ]
  },
  {
   "cell_type": "code",
   "execution_count": null,
   "id": "72986438-a4d5-4fe6-80f3-9dfa0bc67c9d",
   "metadata": {},
   "outputs": [],
   "source": [
    "print(\"Accuracy score is\", ######)"
   ]
  },
  {
   "cell_type": "markdown",
   "id": "3a1b48de-7961-4d46-9bb7-cb53de69a40b",
   "metadata": {},
   "source": [
    "# Question 9\n",
    "Write your own K-medoids clustering, where the Euclidian distance is used to evaluate the distance/ similarity between the dataset. The input to this function should be:\n",
    "- The number of clusters\n",
    "- The dataset\n",
    "\n",
    "The output should be:\n",
    "- The list of cluster centers"
   ]
  },
  {
   "cell_type": "code",
   "execution_count": null,
   "id": "693cb4fe-d161-4990-8376-3173c361bd00",
   "metadata": {},
   "outputs": [],
   "source": []
  },
  {
   "cell_type": "markdown",
   "id": "b1b1f2dc-8e5f-4735-9946-fd9f17632fec",
   "metadata": {},
   "source": [
    "- Apply YOUR k-medoids clustering algorithm with 4 clusters \n",
    "- Scatter Plot the points clusters along with the cluster center (use symbols to distinguish the cluster center from cluster point and the color codes to distinguish between the 4 clusters).\n",
    "\n",
    "- Use the data in the following link: https://www.stat.cmu.edu/~larry/all-of-statistics/=data/faithful.dat"
   ]
  },
  {
   "cell_type": "code",
   "execution_count": null,
   "id": "92080141-ed95-494c-b0f4-3b76977790bf",
   "metadata": {},
   "outputs": [],
   "source": []
  }
 ],
 "metadata": {
  "kernelspec": {
   "display_name": "Python 3 (ipykernel)",
   "language": "python",
   "name": "python3"
  },
  "language_info": {
   "codemirror_mode": {
    "name": "ipython",
    "version": 3
   },
   "file_extension": ".py",
   "mimetype": "text/x-python",
   "name": "python",
   "nbconvert_exporter": "python",
   "pygments_lexer": "ipython3",
   "version": "3.11.0"
  }
 },
 "nbformat": 4,
 "nbformat_minor": 5
}
